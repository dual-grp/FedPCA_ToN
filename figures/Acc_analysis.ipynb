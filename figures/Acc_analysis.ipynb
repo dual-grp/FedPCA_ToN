{
  "cells": [
    {
      "cell_type": "code",
      "execution_count": null,
      "metadata": {
        "colab": {
          "base_uri": "https://localhost:8080/"
        },
        "id": "8QwNluFq67xe",
        "outputId": "d09ebf07-ada0-4d1a-b37e-3094fb358321"
      },
      "outputs": [
        {
          "name": "stdout",
          "output_type": "stream",
          "text": [
            "/content/drive\n",
            "Mounted at /content/drive\n"
          ]
        }
      ],
      "source": [
        "from google.colab import drive\n",
        "\n",
        "ROOT = \"/content/drive\"\n",
        "print(ROOT)\n",
        "drive.mount(ROOT)"
      ]
    },
    {
      "cell_type": "code",
      "execution_count": null,
      "metadata": {
        "colab": {
          "base_uri": "https://localhost:8080/"
        },
        "id": "DYt61pA6LEhy",
        "outputId": "f5934bad-a37b-4953-d582-e0835b35f618"
      },
      "outputs": [
        {
          "name": "stdout",
          "output_type": "stream",
          "text": [
            "ttf-mscorefonts-installer is already the newest version (3.6ubuntu2).\n",
            "The following package was automatically installed and is no longer required:\n",
            "  libnvidia-common-460\n",
            "Use 'apt autoremove' to remove it.\n",
            "0 upgraded, 0 newly installed, 0 to remove and 49 not upgraded.\n",
            "Reading package lists... Done\n",
            "Building dependency tree       \n",
            "Reading state information... Done\n",
            "font-manager is already the newest version (0.7.3-1.1).\n",
            "The following package was automatically installed and is no longer required:\n",
            "  libnvidia-common-460\n",
            "Use 'apt autoremove' to remove it.\n",
            "0 upgraded, 0 newly installed, 0 to remove and 49 not upgraded.\n"
          ]
        }
      ],
      "source": [
        "!wget https://github.com/MaxGhenis/random/raw/master/Roboto-Regular.ttf"
      ]
    },
    {
      "cell_type": "code",
      "execution_count": null,
      "metadata": {
        "id": "i8HP8I4BOrbP"
      },
      "outputs": [],
      "source": [
        "fm.fontManager.ttflist += fm.createFontList(['Roboto-Regular.ttf'])"
      ]
    },
    {
      "cell_type": "code",
      "execution_count": null,
      "metadata": {
        "colab": {
          "base_uri": "https://localhost:8080/"
        },
        "id": "XMqGAzA27QcL",
        "outputId": "68c5b989-59aa-42ec-b283-b9ea5b540390"
      },
      "outputs": [
        {
          "name": "stdout",
          "output_type": "stream",
          "text": [
            "/content/drive/MyDrive/NSL-KDD/KDD_acc\n"
          ]
        }
      ],
      "source": [
        "%cd drive/MyDrive/NSL-KDD/KDD_acc"
      ]
    },
    {
      "cell_type": "code",
      "execution_count": null,
      "metadata": {
        "id": "1H39WQQq7Y-_"
      },
      "outputs": [],
      "source": [
        "import numpy as np\n",
        "Grassman_acc_1e4 = np.load('Grassman_acc_dim_30_std_client_20_iter_1000_lr_0.0001_sub_0.1_localEpochs_30.npy')\n",
        "Grassman_acc_1e5 = np.load('Euclidean_acc_dim_30_std_client_20_iter_1000_lr_0.0001_sub_0.1_localEpochs_30.npy')\n",
        "Grassman_acc_1e6 = np.load('Euclidean_acc_dim_30_std_client_20_iter_1000_lr_0.0001_sub_0.1_localEpochs_40.npy')\n",
        "Euclidean_acc_1e4 = np.load('Euclidean_acc_dim_30_std_client_20_iter_1000_lr_0.0001_sub_0.1_localEpochs_60.npy')\n",
        "Euclidean_acc_1e5 = np.load('Euclidean_acc_dim_30_std_client_20_iter_1000_lr_0.0001_sub_0.1_localEpochs_80.npy')\n",
        "# Euclidean_acc_1e6 = np.load('Euclidean_acc_dim_9_std_client_20_iter_1000_lr_1e-06_sub_0.1.npy')"
      ]
    },
    {
      "cell_type": "code",
      "execution_count": null,
      "metadata": {
        "colab": {
          "base_uri": "https://localhost:8080/"
        },
        "id": "9gFpjU007xQ5",
        "outputId": "b552d20c-4512-42c3-c1a0-1962cd7f03c7"
      },
      "outputs": [
        {
          "data": {
            "text/plain": [
              "(1001,)"
            ]
          },
          "execution_count": 5,
          "metadata": {},
          "output_type": "execute_result"
        }
      ],
      "source": [
        "Grassman_acc_1e4.shape"
      ]
    },
    {
      "cell_type": "code",
      "execution_count": null,
      "metadata": {
        "id": "Pb8ofKdX71kV"
      },
      "outputs": [],
      "source": [
        "import matplotlib.pyplot as plt\n",
        "#plt.rcParams['text.usetex'] = True #Let TeX do the typsetting\n",
        "#plt.rcParams['text.latex.preamble'] = [r'\\usepackage{sansmath}', r'\\sansmath'] #Force sans-serif math mode (for axes labels)\n",
        "plt.rcParams[\"font.family\"] = \"Times New Roman\"\n",
        "csfont = {'fontname':'Times New Roman'}\n",
        "import numpy as np"
      ]
    },
    {
      "cell_type": "code",
      "execution_count": null,
      "metadata": {
        "id": "meP47eL_Y3z6"
      },
      "outputs": [],
      "source": [
        "Gr_lst_10_acc_30 = []\n",
        "Eu_lst_10_acc_30 = []\n",
        "Eu_lst_10_acc_40 = []\n",
        "Eu_lst_10_acc_60 = []\n",
        "Eu_lst_10_acc_80 = []\n",
        "\n",
        "for i in range(500):\n",
        "  if i%50 == 0:\n",
        "    Gr_lst_10_acc_30.append(Grassman_acc_30[i]*100)\n",
        "    Eu_lst_10_acc_30.append(Euclidean_acc_30[i]*100)\n",
        "    Eu_lst_10_acc_40.append(Euclidean_acc_40[i]*100)\n",
        "    Eu_lst_10_acc_60.append(Euclidean_acc_60[i]*100)\n",
        "    Eu_lst_10_acc_80.append(Euclidean_acc_80[i]*100)"
      ]
    },
    {
      "cell_type": "code",
      "execution_count": null,
      "metadata": {
        "colab": {
          "base_uri": "https://localhost:8080/"
        },
        "id": "qZv0-sUPbqpc",
        "outputId": "f6e2ddd9-903e-4605-a212-ae35971266a9"
      },
      "outputs": [
        {
          "data": {
            "text/plain": [
              "10"
            ]
          },
          "execution_count": 13,
          "metadata": {},
          "output_type": "execute_result"
        }
      ],
      "source": [
        "len(Gr_lst_10_acc_30)"
      ]
    },
    {
      "cell_type": "code",
      "execution_count": null,
      "metadata": {
        "colab": {
          "base_uri": "https://localhost:8080/"
        },
        "id": "Tjn3Xhg61JsF",
        "outputId": "c7e07a6b-7e60-4cd3-f09b-3e6bf09cd7b3"
      },
      "outputs": [
        {
          "data": {
            "text/plain": [
              "[0.0,\n",
              " 83.56990773598297,\n",
              " 83.77395315826828,\n",
              " 83.65862313697659,\n",
              " 83.83161816891412,\n",
              " 83.78282469836765,\n",
              " 82.76259758694108,\n",
              " 82.68275372604684,\n",
              " 83.29932576295245,\n",
              " 82.26579134137685]"
            ]
          },
          "execution_count": 14,
          "metadata": {},
          "output_type": "execute_result"
        }
      ],
      "source": [
        "Gr_lst_10_acc_30"
      ]
    },
    {
      "cell_type": "code",
      "execution_count": null,
      "metadata": {
        "colab": {
          "base_uri": "https://localhost:8080/",
          "height": 350
        },
        "id": "1xXP925YZ1nS",
        "outputId": "00f3f561-61b4-4b82-b8e3-e77a1e2e6ddf"
      },
      "outputs": [
        {
          "data": {
            "image/png": "[encoded data removed]",
            "text/plain": [
              "<Figure size 360x360 with 1 Axes>"
            ]
          },
          "metadata": {
            "needs_background": "light"
          },
          "output_type": "display_data"
        }
      ],
      "source": [
        "algorithms = [\"FedPG: C=30\",\"FedPE: C=30\" ,\"FedPE: C=40\" ,\"FedPE: C=60\", \"FedPE: C=80\"]\n",
        "linestyles = ['-', '-', ':', ':',':', '--','-.']\n",
        "markers = [\"d\",\"p\",\"v\",\"s\",\"x\",\"*\",\"o\"]\n",
        "colors = [ 'tab:green', 'r', 'blue', 'tab:brown','m', 'tab:brown','slategray']\n",
        "plt.figure(1,figsize=(10, 19))\n",
        "# x = [0, 100, 200, 300, 400, 500, 600, 700, 800, 900]\n",
        "# x = [0, 10, 20, 30, 40, 50, 60, 70, 80, 90]\n",
        "x = [50, 100, 150, 200, 250, 300, 350, 400, 450]\n",
        "# x = np.linspace(start=0, stop=100, num=10)\n",
        "xi = list(range(len(x)))\n",
        "y = []\n",
        "y.append(Gr_lst_10_acc_30[1:])\n",
        "y.append(Eu_lst_10_acc_30[1:])\n",
        "y.append(Eu_lst_10_acc_40[1:])\n",
        "y.append(Eu_lst_10_acc_60[1:])\n",
        "y.append(Eu_lst_10_acc_80[1:])\n",
        "len(y)\n",
        "for i in range(len(y)):\n",
        "    plt.plot(xi, y[i], linestyle=linestyles[i], label=algorithms[i], linewidth  = 1, color=colors[i], marker = markers[i], markevery=0.05, markersize=5)\n",
        "    plt.xticks(xi, x)\n",
        "plt.ylabel('Global Accuracy', **csfont)\n",
        "plt.xlabel(r'Global communication', **csfont)\n",
        "plt.title(\"KDD\", **csfont)\n",
        "plt.legend(loc='lower right', prop={'size': 9}, ncol=2)\n",
        "plt.ylim([0,  100])\n",
        "#plt.xlim(left=0)\n",
        "plt.grid(True)\n",
        "plt.savefig(\"Acc_comparison.pdf\", bbox_inches=\"tight\",pad_inches = 0)\n",
        "plt.show()"
      ]
    }
  ],
  "metadata": {
    "colab": {
      "provenance": []
    },
    "kernelspec": {
      "display_name": "Python 3",
      "name": "python3"
    },
    "language_info": {
      "name": "python"
    }
  },
  "nbformat": 4,
  "nbformat_minor": 0
}
